{
 "cells": [
  {
   "cell_type": "code",
   "execution_count": 14,
   "metadata": {},
   "outputs": [
    {
     "name": "stdout",
     "output_type": "stream",
     "text": [
      "97 37\n"
     ]
    }
   ],
   "source": [
    "# Pick 2 prime numbers\n",
    "p, q = 97, 37\n",
    "print(p, q)\n",
    "\n",
    "def is_prime(n):\n",
    "  if n <= 1:\n",
    "    return False\n",
    "  for i in range(2, int(n ** 0.5) + 1):\n",
    "    if n % i == 0:\n",
    "      return False\n",
    "  return True\n",
    "\n",
    "assert(is_prime(p) and is_prime(q))\n"
   ]
  },
  {
   "cell_type": "code",
   "execution_count": 15,
   "metadata": {},
   "outputs": [
    {
     "name": "stdout",
     "output_type": "stream",
     "text": [
      "3589\n"
     ]
    }
   ],
   "source": [
    "# Public Key 1: product of the 2 primes\n",
    "public_1 = p * q\n",
    "print(public_1)"
   ]
  },
  {
   "cell_type": "code",
   "execution_count": 16,
   "metadata": {},
   "outputs": [
    {
     "name": "stdout",
     "output_type": "stream",
     "text": [
      "3456, 5\n"
     ]
    }
   ],
   "source": [
    "# Public Key 2: a number greater than 1 and less than (p − 1)(q − 1).\n",
    "# There must be no common factor for it and (p − 1)(q − 1) except for 1\n",
    "# In other words two numbers, public key 2 and (p – 1)(q – 1), are coprime.\n",
    "public_2 = -1\n",
    "magic = (p - 1) * (q - 1)\n",
    "for i in range(2, magic):\n",
    "  if magic % i != 0:\n",
    "    public_2 = i\n",
    "    break\n",
    "print(f\"{magic}, {public_2}\")\n",
    "\n",
    "public_key = (public_1, public_2)"
   ]
  },
  {
   "cell_type": "code",
   "execution_count": 17,
   "metadata": {},
   "outputs": [
    {
     "name": "stdout",
     "output_type": "stream",
     "text": [
      "2765\n"
     ]
    }
   ],
   "source": [
    "# Find private key, such as:\n",
    "# Private Key * Public Key 2 = 1 (mod 72)\n",
    "priv_2 = -1\n",
    "for i in range(1, magic):\n",
    "    if (i * public_2) % magic == 1:\n",
    "        priv_2 = i\n",
    "        break\n",
    "print(priv_2)\n",
    "private_key = (public_1, priv_2)"
   ]
  },
  {
   "cell_type": "code",
   "execution_count": 18,
   "metadata": {},
   "outputs": [],
   "source": [
    "# The encryption and decryption functions\n",
    "# note that we can only encrypt numbers less than the public key\n",
    "def encrypt(v):\n",
    "    assert(v < public_1)\n",
    "    return (v ** public_2) % public_1\n",
    "\n",
    "def decrypt(v):\n",
    "    assert(v < public_1)\n",
    "    return (v ** priv_2) % public_1"
   ]
  },
  {
   "cell_type": "code",
   "execution_count": 19,
   "metadata": {},
   "outputs": [
    {
     "name": "stdout",
     "output_type": "stream",
     "text": [
      "Public Key: (3589, 5)\n",
      "Private Key: (3589, 2765)\n",
      "89 : 2540 : 89\n"
     ]
    }
   ],
   "source": [
    "# Run example\n",
    "print(f\"Public Key: {public_key}\")\n",
    "print(f\"Private Key: {private_key}\")\n",
    "n = 89\n",
    "print(f\"{n} : {encrypt(n)} : {decrypt(encrypt(n))}\")\n",
    "\n",
    "# Confirm every encryption can be decrypted back\n",
    "for i in range(0, public_1):\n",
    "  assert(i == decrypt(encrypt(i)))"
   ]
  }
 ],
 "metadata": {
  "kernelspec": {
   "display_name": "Python 3",
   "language": "python",
   "name": "python3"
  },
  "language_info": {
   "codemirror_mode": {
    "name": "ipython",
    "version": 3
   },
   "file_extension": ".py",
   "mimetype": "text/x-python",
   "name": "python",
   "nbconvert_exporter": "python",
   "pygments_lexer": "ipython3",
   "version": "3.11.0"
  },
  "orig_nbformat": 4,
  "vscode": {
   "interpreter": {
    "hash": "1a1af0ee75eeea9e2e1ee996c87e7a2b11a0bebd85af04bb136d915cefc0abce"
   }
  }
 },
 "nbformat": 4,
 "nbformat_minor": 2
}
